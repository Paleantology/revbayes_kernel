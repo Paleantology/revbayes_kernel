{
 "cells": [
  {
   "cell_type": "markdown",
   "metadata": {},
   "source": [
    "### jupyter magic commands\n",
    "Jupyter provides a number of magic commands, with universal behaviors defined outside RevBayes (and other languages executable within Jupyter). To list the magic commands available in Jupyter:"
   ]
  },
  {
   "cell_type": "code",
   "execution_count": null,
   "metadata": {
    "collapsed": false
   },
   "outputs": [],
   "source": [
    "%lsmagic"
   ]
  },
  {
   "cell_type": "markdown",
   "metadata": {},
   "source": [
    "Suppose we simulate and save a `Tree` object to file using `writeNexus` in RevBayes. We can then open that tree file from within the same Juptyer notebook using the `%python` magic command.\n",
    "\n",
    "First, create and save the `Tree` object"
   ]
  },
  {
   "cell_type": "code",
   "execution_count": null,
   "metadata": {
    "collapsed": false
   },
   "outputs": [],
   "source": [
    "n_taxa = 10\n",
    "for (i in 1:n_taxa) {\n",
    "    taxa[i] = taxon(\"T\"+i, 0.0)\n",
    "}\n",
    "phy ~ dnBDP(lambda=1, rootAge=1, taxa=taxa)\n",
    "writeNexus(data=phy, filename=\"example/output/magic_test.tre\")"
   ]
  },
  {
   "cell_type": "markdown",
   "metadata": {},
   "source": [
    "### Executing `python` code\n",
    "The magic command `%matplotlib inline` is supposed to, unsurprisingly, plot figures inline. Needs further testing to work with `Phylo.draw()`."
   ]
  },
  {
   "cell_type": "code",
   "execution_count": 1,
   "metadata": {
    "collapsed": true
   },
   "outputs": [],
   "source": [
    "%matplotlib MacOSX"
   ]
  },
  {
   "cell_type": "markdown",
   "metadata": {},
   "source": [
    "Use `%%python` to indicate the next cell conatins python commands"
   ]
  },
  {
   "cell_type": "code",
   "execution_count": null,
   "metadata": {
    "collapsed": false
   },
   "outputs": [],
   "source": [
    "%%python\n",
    "\n",
    "# python stuff\n",
    "import dendropy as dp\n",
    "import matplotlib\n",
    "from Bio import Phylo\n",
    "\n",
    "# read a tree in Dendropy\n",
    "dtree = dp.Tree.get(path='example/output/magic_test.tre',schema='nexus')\n",
    "\n",
    "# read a tree in Biopython\n",
    "bptree = Phylo.read('example/output/magic_test.tre', 'nexus')\n",
    "\n",
    "# plot something\n",
    "Phylo.draw(bptree)"
   ]
  },
  {
   "cell_type": "markdown",
   "metadata": {},
   "source": [
    "### Executing `R` code through `rpy2`\n",
    "This is under development, but we can potentially use the `rpy2` package to execute `R` commands through `python`.\n",
    "Unfortunately, it appears that magic command wrappers must be written per language; they don't exist for `R`, suggesting it's a bit of work."
   ]
  },
  {
   "cell_type": "code",
   "execution_count": null,
   "metadata": {
    "collapsed": true
   },
   "outputs": [],
   "source": [
    "%%python\n",
    "# testing to see if we can pipe into R through rpy2\n",
    "# R stuff\n",
    "from rpy2.robjects import r\n",
    "import tempfile\n",
    "def to_ape(tree):\n",
    "    \"\"\"Convert a tree to the type used by the R package `ape`, via rpy2.\n",
    "\n",
    "    Requirements:\n",
    "        - Python package `rpy2`\n",
    "        - R package `ape`\n",
    "    \"\"\"\n",
    "    with tempfile.NamedTemporaryFile() as tmpf:\n",
    "        Phylo.write(tree, tmpf, 'newick')\n",
    "        tmpf.flush()\n",
    "        rtree = r(\"\"\"\n",
    "            library('ape')\n",
    "            read.tree('%s')\n",
    "            \"\"\" % tmpf.name)\n",
    "    return rtree\n",
    "\n",
    "\n",
    "# read a tree in R through rpy\n",
    "rtree = to_ape(bptree)"
   ]
  }
 ],
 "metadata": {
  "kernelspec": {
   "display_name": "RevBayes",
   "language": "bash",
   "name": "revbayes_kernel"
  },
  "language_info": {
   "codemirror_mode": {
    "name": "r"
   },
   "file_extension": ".Rev",
   "help_links": [
    {
     "text": "RevBayes",
     "url": "https://revbayes.org"
    },
    {
     "text": "RevBayes Kernel",
     "url": "https://github.com/sdwfrost/revbayes_kernel"
    },
    {
     "text": "MetaKernel Magics",
     "url": "https://github.com/calysto/metakernel/blob/master/metakernel/magics/README.md"
    }
   ],
   "mimetype": "text/x-rsrc",
   "name": "RevBayes",
   "pygments_lexer": "R"
  }
 },
 "nbformat": 4,
 "nbformat_minor": 0
}
