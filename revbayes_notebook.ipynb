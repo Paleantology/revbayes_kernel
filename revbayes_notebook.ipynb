{
 "cells": [
  {
   "cell_type": "code",
   "execution_count": null,
   "metadata": {
    "collapsed": false
   },
   "outputs": [],
   "source": [
    "# IO\n",
    "out_fp = \"output/\"\n",
    "out_fn = out_fp + \"kernel_test\""
   ]
  },
  {
   "cell_type": "code",
   "execution_count": null,
   "metadata": {
    "collapsed": true
   },
   "outputs": [],
   "source": [
    "# MCMC settings\n",
    "mvi = 1\n",
    "mni = 1\n",
    "n_gen = 1e4\n",
    "sample_freq = floor(n_gen/1e2)"
   ]
  },
  {
   "cell_type": "code",
   "execution_count": null,
   "metadata": {
    "collapsed": false
   },
   "outputs": [],
   "source": [
    "# data dimensions\n",
    "n_taxa = 10\n",
    "n_sites = 100"
   ]
  },
  {
   "cell_type": "code",
   "execution_count": null,
   "metadata": {
    "collapsed": false
   },
   "outputs": [],
   "source": [
    "# create dummy taxa\n",
    "for (i in 1:n_taxa) {\n",
    "    taxa[i] = taxon(\"T\"+i, 0.0)\n",
    "}\n",
    "taxa"
   ]
  },
  {
   "cell_type": "code",
   "execution_count": null,
   "metadata": {
    "collapsed": false
   },
   "outputs": [],
   "source": [
    "# create unit Yule tree\n",
    "birth ~ dnExp(1)\n",
    "phy ~ dnBDP(lambda=birth, mu=0., rootAge=1, taxa=taxa)\n",
    "\n",
    "# tree moves\n",
    "mv[mvi++] = mvNNI(phy, weight=n_taxa)\n",
    "mv[mvi++] = mvFNPR(phy, weight=n_taxa/2)\n",
    "mv[mvi++] = mvNodeTimeSlideUniform(phy, weight=n_taxa)\n",
    "\n",
    "# print the tree's value\n",
    "phy"
   ]
  },
  {
   "cell_type": "code",
   "execution_count": null,
   "metadata": {
    "collapsed": false
   },
   "outputs": [],
   "source": [
    "# base frequencies\n",
    "pi ~ dnDirichlet(rep(1,4))\n",
    "mv[mvi++] = mvSimplexElementScale(pi, alpha=10, weight=4)\n",
    "\n",
    "# exchangeability rates\n",
    "er ~ dnDirichlet(rep(1,6))\n",
    "mv[mvi++] = mvSimplexElementScale(er, alpha=10, weight=6)\n",
    "\n",
    "# GTR rate matrix\n",
    "Q := fnGTR(exchangeRates=er,\n",
    "           baseFrequencies=pi)\n",
    "    \n",
    "# print the matrix's value\n",
    "Q"
   ]
  },
  {
   "cell_type": "code",
   "execution_count": null,
   "metadata": {
    "collapsed": false
   },
   "outputs": [],
   "source": [
    "# build phylogenetic CTMC\n",
    "seq ~ dnPhyloCTMC(tree=phy,\n",
    "                  Q=Q,\n",
    "                  branchRates=1.,\n",
    "                  nSites=n_sites,\n",
    "                  type=\"DNA\")\n",
    "\n",
    "# treat the simulated data as the likelihood\n",
    "seq.clamp(seq)"
   ]
  },
  {
   "cell_type": "code",
   "execution_count": null,
   "metadata": {
    "collapsed": true
   },
   "outputs": [],
   "source": [
    "# save some values\n",
    "writeNexus(seq, filename=out_fn+\".sim.nex\")\n",
    "writeNexus(phy, filename=out_fn+\".sim.tre\")"
   ]
  },
  {
   "cell_type": "code",
   "execution_count": null,
   "metadata": {
    "collapsed": false
   },
   "outputs": [],
   "source": [
    "# create monitors\n",
    "mn[mni++] = mnScreen(pi, printgen=sample_freq)\n",
    "mn[mni++] = mnModel(filename=out_fn+\".model.log\",\n",
    "                    printgen=sample_freq)\n",
    "mn[mni++] = mnFile(phy,\n",
    "                   filename=out_fn+\".tre\",\n",
    "                   printgen=sample_freq)"
   ]
  },
  {
   "cell_type": "code",
   "execution_count": null,
   "metadata": {
    "collapsed": false
   },
   "outputs": [],
   "source": [
    "# create MCMC\n",
    "mdl = model(phy)\n",
    "ch = mcmc(mdl,mv,mn)\n",
    "ch.run(n_gen)"
   ]
  },
  {
   "cell_type": "code",
   "execution_count": null,
   "metadata": {
    "collapsed": true
   },
   "outputs": [],
   "source": []
  },
  {
   "cell_type": "code",
   "execution_count": null,
   "metadata": {
    "collapsed": true
   },
   "outputs": [],
   "source": []
  }
 ],
 "metadata": {
  "kernelspec": {
   "display_name": "RevBayes",
   "language": "bash",
   "name": "revbayes_kernel"
  },
  "language_info": {
   "file_extension": ".Rev",
   "help_links": [
    {
     "text": "RevBayes",
     "url": "https://revbayes.org"
    },
    {
     "text": "RevBayes Kernel",
     "url": "https://github.com/sdwfrost/revbayes_kernel"
    },
    {
     "text": "MetaKernel Magics",
     "url": "https://github.com/calysto/metakernel/blob/master/metakernel/magics/README.md"
    }
   ],
   "mimetype": "text/x-rsrc",
   "name": "RevBayes"
  }
 },
 "nbformat": 4,
 "nbformat_minor": 0
}
